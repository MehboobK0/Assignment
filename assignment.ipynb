{
 "cells": [
  {
   "cell_type": "code",
   "execution_count": 1,
   "id": "3db7d2ad",
   "metadata": {},
   "outputs": [
    {
     "name": "stdout",
     "output_type": "stream",
     "text": [
      "Q1 Sorted List: [('Virat Kohli', 24936), ('Jack Kallis', 25534), ('Ricky Ponting', 27483), ('Sachin Tendulkar', 34357)]\n",
      "Q2 Squares of Numbers: [1, 4, 9, 16, 25, 36, 49, 64, 81, 100]\n",
      "Q3 Tuple of Strings: ('1', '2', '3', '4', '5', '6', '7', '8', '9', '10')\n",
      "Q4 Product: 15511210043330985984000000\n",
      "Q5 Numbers Divisible by 2 and 3: [6, 60, 90, 120]\n",
      "Q6 Palindromes: ['php', 'aba', 'radar', 'level']\n"
     ]
    }
   ],
   "source": [
    "from functools import reduce\n",
    "\n",
    "# Q1\n",
    "list_of_tuples = [('Sachin Tendulkar', 34357), ('Ricky Ponting', 27483), ('Jack Kallis', 25534), ('Virat Kohli', 24936)]\n",
    "sorted_list = sorted(list_of_tuples, key=lambda x: x[1])\n",
    "print(\"Q1 Sorted List:\", sorted_list)\n",
    "\n",
    "# Q2\n",
    "numbers = [1, 2, 3, 4, 5, 6, 7, 8, 9, 10]\n",
    "squared_numbers = list(map(lambda x: x**2, numbers))\n",
    "print(\"Q2 Squares of Numbers:\", squared_numbers)\n",
    "\n",
    "# Q3\n",
    "list_of_integers = [1, 2, 3, 4, 5, 6, 7, 8, 9, 10]\n",
    "tuple_of_strings = tuple(map(lambda x: str(x), list_of_integers))\n",
    "print(\"Q3 Tuple of Strings:\", tuple_of_strings)\n",
    "\n",
    "# Q4\n",
    "product = reduce(lambda x, y: x * y, range(1, 26))\n",
    "print(\"Q4 Product:\", product)\n",
    "\n",
    "# Q5\n",
    "numbers_list = [2, 3, 6, 9, 27, 60, 90, 120, 55, 46]\n",
    "divisible_by_2_and_3 = list(filter(lambda x: x % 2 == 0 and x % 3 == 0, numbers_list))\n",
    "print(\"Q5 Numbers Divisible by 2 and 3:\", divisible_by_2_and_3)\n",
    "\n",
    "# Q6\n",
    "strings_list = ['python', 'php', 'aba', 'radar', 'level']\n",
    "palindromes = list(filter(lambda x: x == x[::-1], strings_list))\n",
    "print(\"Q6 Palindromes:\", palindromes)\n"
   ]
  },
  {
   "cell_type": "code",
   "execution_count": null,
   "id": "3b7498ae",
   "metadata": {},
   "outputs": [],
   "source": []
  }
 ],
 "metadata": {
  "kernelspec": {
   "display_name": "Python 3 (ipykernel)",
   "language": "python",
   "name": "python3"
  },
  "language_info": {
   "codemirror_mode": {
    "name": "ipython",
    "version": 3
   },
   "file_extension": ".py",
   "mimetype": "text/x-python",
   "name": "python",
   "nbconvert_exporter": "python",
   "pygments_lexer": "ipython3",
   "version": "3.9.12"
  }
 },
 "nbformat": 4,
 "nbformat_minor": 5
}
